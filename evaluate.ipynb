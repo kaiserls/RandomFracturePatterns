{
 "cells": [
  {
   "attachments": {},
   "cell_type": "markdown",
   "metadata": {},
   "source": [
    "## Postprocess and Analyze"
   ]
  },
  {
   "cell_type": "code",
   "execution_count": null,
   "metadata": {},
   "outputs": [],
   "source": [
    "import logging\n",
    "logging.basicConfig(filename='example.log', encoding='utf-8', level=logging.INFO)\n",
    "\n",
    "import pandas as pd\n",
    "import matplotlib.pyplot as plt\n",
    "import numpy as np\n",
    "from skimage.morphology import medial_axis\n",
    "\n",
    "import src.measure.isolines as isolines_calculator\n",
    "from src.measure.curvature import calc_local_curvature, calc_local_curvature_old\n",
    "import src.simulation.plotting as plotting\n",
    "import src.simulation.analysis as analysis\n",
    "import src.simulation.postprocessing as postprocessing"
   ]
  },
  {
   "cell_type": "code",
   "execution_count": null,
   "metadata": {},
   "outputs": [],
   "source": [
    "test = False\n",
    "\n",
    "do_postprocessing = False\n",
    "if do_postprocessing:\n",
    "    df = pd.read_csv(\"results/simulation_results.csv\", index_col=0)\n",
    "    if test:\n",
    "        df = df.tail(5)\n",
    "    simulation_results = df.to_dict(orient=\"records\")\n",
    "    postprocessing_results = postprocessing.postprocess(simulation_results)\n",
    "    pd.DataFrame(postprocessing_results).to_csv(\"results/postprocessing_results.csv\")\n",
    "\n",
    "do_analysis = True\n",
    "analysis_params = {\n",
    "    \"iso_value\":0.98,\n",
    "    \"curvature_smoothing_stride\": 2,\n",
    "}\n",
    "if do_analysis:\n",
    "    df = pd.read_csv(\"results/postprocessing_results.csv\", index_col=0)\n",
    "    if test:\n",
    "        df = df.tail(5)\n",
    "    postprocessing_results = df.to_dict(orient=\"records\")\n",
    "    analysis_results = analysis.analyze(postprocessing_results, **analysis_params)\n",
    "    df = pd.DataFrame(analysis_results)\n",
    "    df.to_csv(\"results/analysis_results.csv\")"
   ]
  },
  {
   "attachments": {},
   "cell_type": "markdown",
   "metadata": {},
   "source": [
    "## Plot"
   ]
  },
  {
   "cell_type": "code",
   "execution_count": null,
   "metadata": {},
   "outputs": [],
   "source": [
    "df = pd.read_csv(\"results/analysis_results.csv\", index_col=0)\n",
    "# remove runs with skeleton_length smaller than 500\n",
    "df = df[df[\"skeleton_length\"] > 500]\n",
    "# df = df[(df[\"std_lambda\"] == 5.05e8/4) | (df[\"homogeneous\"] == True)]\n",
    "# is_in_wanted_lengthscale = df[\"lengthscale_lambda\"]== 1\n",
    "# is_in_wanted_lengthscale = np.logical_or(is_in_wanted_lengthscale, df[\"lengthscale_lambda\"]== 5)\n",
    "# is_in_wanted_lengthscale = np.logical_or(is_in_wanted_lengthscale, df[\"lengthscale_lambda\"]== 1000)\n",
    "\n",
    "plots = [\"volume\", \"count\", \"fractal_dimension\",\n",
    "         \"isoline_length\", \"skeleton_length\",\n",
    "         \"total_curvature\", \"skeleton_y_max\",\n",
    "         \"sign_changes\", \"max_curvature\", \"max_curvature_smoothed\", \"sign_changes_smoothed\",\n",
    "         \"isoline_n_points\", \"isoline_mean_segment_length\"]\n",
    "\n",
    "df_sub = df#[is_in_wanted_lengthscale]\n",
    "plotting.plot(df_sub, create_subplots=True, plots=plots)"
   ]
  },
  {
   "cell_type": "code",
   "execution_count": null,
   "metadata": {},
   "outputs": [],
   "source": [
    "# Special plot for the curvatures\n",
    "n_std_lambdas = len(df[\"std_lambda\"].unique())\n",
    "n_lengthscale_lambdas = len(df[\"lengthscale_lambda\"].unique())\n",
    "n_plots = n_std_lambdas * n_lengthscale_lambdas\n",
    "# give each lengthscale_lambda a different color\n",
    "colors = plt.cm.rainbow(np.linspace(0, 1, n_lengthscale_lambdas))\n",
    "# plt.subplots(n_plots, 1, figsize=(10, 20), tight_layout=True)\n",
    "plt.figure()\n",
    "\n",
    "for i, std_lambda in enumerate(df[\"std_lambda\"].unique()):\n",
    "    df_std_lambda = df[df[\"std_lambda\"] == std_lambda]\n",
    "    for j, lengthscale_lambda in enumerate(df_std_lambda[\"lengthscale_lambda\"].unique()):\n",
    "        df_lengthscale_lambda = df_std_lambda[df_std_lambda[\"lengthscale_lambda\"] == lengthscale_lambda]\n",
    "        cs = []\n",
    "        for index, row in df_lengthscale_lambda.iterrows():\n",
    "            c = np.load(row[\"curvatures\"])\n",
    "            cs.append(c)\n",
    "        # scale c to [0, 1]\n",
    "        c = np.mean(cs, axis=0)\n",
    "        # c = (c - np.min(c)) / (np.max(c) - np.min(c))\n",
    "        # plt.subplot(n_plots, 1, i * n_lengthscale_lambdas + j + 1)\n",
    "        if len(cs) > 1:\n",
    "            plt.semilogy(c, label=f\"lengthscale_lambda={lengthscale_lambda:.2E}\", color=colors[j])\n",
    "        # plt.legend()\n",
    "\n",
    "# make a legend from the color patches\n",
    "patches = [plt.plot([], [], marker=\"o\", ms=10, ls=\"\", mec=None, color=colors[i], label=f\"lengthscale_lambda={lengthscale_lambda:.2E}\")[0] for i, lengthscale_lambda in enumerate(df[\"lengthscale_lambda\"].unique())]\n",
    "plt.legend(handles=patches, bbox_to_anchor=(1.05, 1), loc='upper left', borderaxespad=0.)\n",
    "\n",
    "# plt.legend()\n",
    "plt.xlabel(\"Smoothing cycles\")\n",
    "plt.ylabel(\"Curvature\")\n",
    "plt.show()\n"
   ]
  },
  {
   "attachments": {},
   "cell_type": "markdown",
   "metadata": {},
   "source": [
    "## Look at the cracks, the postprocessed data and the visual analysis results:"
   ]
  },
  {
   "cell_type": "code",
   "execution_count": null,
   "metadata": {},
   "outputs": [],
   "source": [
    "from skimage.morphology import skeletonize\n",
    "for index, row in df.iterrows():\n",
    "    OP_bw = row[\"OP_01_bw\"]\n",
    "    OP_bw = np.load(OP_bw)\n",
    "    OP_bw = OP_bw > 0.5\n",
    "    OP_01 = np.load(row[\"OP_01\"])\n",
    "    skel, distance = medial_axis(OP_bw, return_distance=True)\n",
    "    skeleton = skeletonize(OP_bw)\n",
    "    dist_on_skel = distance * skeleton\n",
    "\n",
    "    summed_width = np.sum(dist_on_skel)\n",
    "    print(f\"summed_width: {summed_width}\")\n",
    "    print(f\"width_variance: {np.var(dist_on_skel)}\")\n",
    "\n",
    "    plt.imshow(dist_on_skel, cmap='magma')\n",
    "    plt.colorbar()\n",
    "\n",
    "    plt.contour(OP_01, [0.98], colors='w')\n",
    "    plt.show()"
   ]
  },
  {
   "cell_type": "code",
   "execution_count": null,
   "metadata": {},
   "outputs": [],
   "source": [
    "for index, row in df.iterrows():\n",
    "    # Draw the original image\n",
    "    # OP_01 = row[\"OP_01_bw\"]\n",
    "    # arr = np.load(OP_01)\n",
    "    # plt.imshow(arr, cmap=plt.cm.gray)\n",
    "    # plt.show()\n",
    "\n",
    "    # Draw the skeleton\n",
    "    skeleton = np.load(row[\"skeleton\"])\n",
    "    plt.imshow(skeleton, cmap=plt.cm.gray)\n",
    "    plt.show()\n",
    "\n",
    "    print('Skeleton length:', row[\"skeleton_length\"])\n"
   ]
  },
  {
   "cell_type": "code",
   "execution_count": null,
   "metadata": {},
   "outputs": [],
   "source": [
    "# TODO: Plot the fractures and check the results for different iso_values"
   ]
  },
  {
   "attachments": {},
   "cell_type": "markdown",
   "metadata": {},
   "source": [
    "## Plot Isolines"
   ]
  },
  {
   "cell_type": "code",
   "execution_count": null,
   "metadata": {},
   "outputs": [],
   "source": [
    "for index, row in df.iterrows():\n",
    "    OP_bw = np.load(row[\"OP_01_bw\"])\n",
    "    plt.imshow(OP_bw, cmap=plt.cm.gray)\n",
    "    OP_01_isolines = isolines_calculator.isoline(OP_bw, iso_value=row[\"iso_value\"])\n",
    "    for isoline in OP_01_isolines:\n",
    "        plt.plot(isoline[:, 1], isoline[:, 0], linewidth=2, color='red')\n",
    "    plt.show()\n",
    "    \n",
    "    print(\"The total curvature is:\", row[\"curvature\"])\n",
    "    for smoothing_cyle in range(1, row[\"curvature_smoothing_cycles\"]+1):\n",
    "        curvature_smoothed = row[f\"curvature_smoothed_{smoothing_cyle}\"]\n",
    "        print(f\"The curvature after {smoothing_cyle} smoothing cycles is:\", curvature_smoothed)\n",
    "\n",
    "for index, row in df.iterrows():\n",
    "    # select where std_lambda == 5.05e8\n",
    "    sub_df = df[df[\"std_lambda\"]==5.05e8]\n",
    "    strides = [1,3,5,10,25]\n",
    "    for stride in strides:\n",
    "        plt.plot(sub_df[\"lengthscale_lambda\"])"
   ]
  },
  {
   "cell_type": "code",
   "execution_count": null,
   "metadata": {},
   "outputs": [],
   "source": [
    "# random_indices = np.random.randint(0, len(df), 10)\n",
    "all_indices = np.arange(len(df))\n",
    "random_indices = all_indices\n",
    "\n",
    "y_min, y_max = -150, 150 #df[\"structured_mesh_min_y\"].min(), df[\"structured_mesh_max_y\"].max()\n",
    "\n",
    "for i in random_indices:\n",
    "    # Select row by using the column \"run\" which contains the run number which has the same range as the index\n",
    "    df_row = df.iloc[i]\n",
    "    OP_01 = np.load(df_row[\"OP_01\"])\n",
    "    isolines = isolines_calculator.isoline(OP_01, iso_value=df_row[\"iso_value\"])\n",
    "    # plt.figure()\n",
    "    # curvatures = []\n",
    "    # for isoline in isolines:\n",
    "    #     isoline_curvature = curvature.calc_curvature(isoline, stride=20)\n",
    "    #     curvatures.append(isoline_curvature)\n",
    "\n",
    "    fig, ax1 = plt.subplots()\n",
    "    ax2 = ax1.twinx()\n",
    "    ax2.set_ylabel('Curvature', color='b')\n",
    "    ax1.set_ylabel('y')\n",
    "    ax1.set_ylim(y_min, y_max)\n",
    "    stride = 3\n",
    "    # ax1.set_ylim(y_min, y_max)\n",
    "    curvature_sum_sum = 0\n",
    "    for isoline in isolines[0:1]:\n",
    "        # if np.max(isoline[:, 0]) - np.min(isoline[:, 0]) < 100:\n",
    "        #     continue\n",
    "        isoline_curvature_local = calc_local_curvature(isoline, stride=stride)\n",
    "        curvature_sum = np.sum(np.abs(isoline_curvature_local))\n",
    "        curvature_sum_sum += curvature_sum\n",
    "        # x = np.linspace(0, 1000, len(isoline_curvature_local))\n",
    "        ax2.plot(isoline[::stride,1], isoline_curvature_local, color='b')\n",
    "        ax1.plot(isoline[::stride,1], isoline[::stride,0], color='r')\n",
    "    ax1.set_title(f\"curvature_sum={curvature_sum_sum}\") #, curvature={isoline_curvature:.2f}\")\n",
    "    plt.show()"
   ]
  },
  {
   "attachments": {},
   "cell_type": "markdown",
   "metadata": {},
   "source": [
    "## Plot Volume"
   ]
  }
 ],
 "metadata": {
  "kernelspec": {
   "display_name": "venv",
   "language": "python",
   "name": "python3"
  },
  "language_info": {
   "codemirror_mode": {
    "name": "ipython",
    "version": 3
   },
   "file_extension": ".py",
   "mimetype": "text/x-python",
   "name": "python",
   "nbconvert_exporter": "python",
   "pygments_lexer": "ipython3",
   "version": "3.11.2"
  },
  "orig_nbformat": 4
 },
 "nbformat": 4,
 "nbformat_minor": 2
}
