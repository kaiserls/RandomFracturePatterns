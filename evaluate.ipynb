{
 "cells": [
  {
   "attachments": {},
   "cell_type": "markdown",
   "metadata": {},
   "source": [
    "## Postprocess and Analyze"
   ]
  },
  {
   "cell_type": "code",
   "execution_count": null,
   "metadata": {},
   "outputs": [],
   "source": [
    "import logging\n",
    "logging.basicConfig(filename='example.log', encoding='utf-8', level=logging.INFO)"
   ]
  },
  {
   "cell_type": "code",
   "execution_count": null,
   "metadata": {},
   "outputs": [],
   "source": [
    "import pandas as pd\n",
    "import src.simulation.plotting as plotting\n",
    "import src.simulation.analysis as analysis\n",
    "import src.simulation.postprocessing as postprocessing\n",
    "\n",
    "test = False\n",
    "\n",
    "do_postprocessing = False\n",
    "if do_postprocessing:\n",
    "    df = pd.read_csv(\"results/simulation_results.csv\", index_col=0)\n",
    "    if test:\n",
    "        df = df.tail(5)\n",
    "    simulation_results = df.to_dict(orient=\"records\")\n",
    "    postprocessing_results = postprocessing.postprocess(simulation_results)\n",
    "    pd.DataFrame(postprocessing_results).to_csv(\"results/postprocessing_results.csv\")\n",
    "\n",
    "do_analysis = True\n",
    "if do_analysis:\n",
    "    df = pd.read_csv(\"results/postprocessing_results.csv\", index_col=0)\n",
    "    if test:\n",
    "        df = df.tail(5)\n",
    "    postprocessing_results = df.to_dict(orient=\"records\")\n",
    "    analysis_results = analysis.analyze(postprocessing_results)\n",
    "    df = pd.DataFrame(analysis_results)\n",
    "    df.to_csv(\"results/analysis_results.csv\")"
   ]
  },
  {
   "attachments": {},
   "cell_type": "markdown",
   "metadata": {},
   "source": [
    "## Plot"
   ]
  },
  {
   "cell_type": "code",
   "execution_count": null,
   "metadata": {},
   "outputs": [],
   "source": [
    "df = pd.read_csv(\"results/analysis_results.csv\", index_col=0)\n",
    "df = df[(df[\"std_lambda\"] == 5.05e8) | (df[\"homogeneous\"] == True)]\n",
    "plotting.plot(df, create_subplots=True)"
   ]
  },
  {
   "attachments": {},
   "cell_type": "markdown",
   "metadata": {},
   "source": [
    "## Look at the cracks, the postprocessed data and the visual analysis results:"
   ]
  },
  {
   "cell_type": "code",
   "execution_count": null,
   "metadata": {},
   "outputs": [],
   "source": [
    "import matplotlib.pyplot as plt\n",
    "import numpy as np\n",
    "from math import sqrt\n",
    "from scipy import ndimage\n",
    "\n",
    "for index, row in df.iterrows():\n",
    "    # Draw the original image\n",
    "    # OP_01 = row[\"OP_01_bw\"]\n",
    "    # arr = np.load(OP_01)\n",
    "    # plt.imshow(arr, cmap=plt.cm.gray)\n",
    "    # plt.show()\n",
    "\n",
    "    # Draw the skeleton\n",
    "    skeleton = np.load(row[\"skeleton\"])\n",
    "    plt.imshow(skeleton, cmap=plt.cm.gray)\n",
    "    plt.show()\n",
    "\n",
    "    print('Skeleton length:', row[\"skeleton_length\"])\n"
   ]
  },
  {
   "cell_type": "code",
   "execution_count": null,
   "metadata": {},
   "outputs": [],
   "source": [
    "# TODO: Plot the fractures and check the results for different iso_values"
   ]
  },
  {
   "attachments": {},
   "cell_type": "markdown",
   "metadata": {},
   "source": [
    "## Plot Isolines"
   ]
  },
  {
   "cell_type": "code",
   "execution_count": null,
   "metadata": {},
   "outputs": [],
   "source": [
    "#"
   ]
  },
  {
   "cell_type": "code",
   "execution_count": null,
   "metadata": {},
   "outputs": [],
   "source": [
    "# from src.measure.isolines import isolines_from_vtk\n",
    "# \n",
    "# import matplotlib.pyplot as plt\n",
    "# import src.measure.curvature as curvature\n",
    "\n",
    "# # random_indices = np.random.randint(0, len(df), 10)\n",
    "# all_indices = np.arange(len(df))\n",
    "# random_indices = all_indices\n",
    "\n",
    "# y_min, y_max = -150, 150 #df[\"structured_mesh_min_y\"].min(), df[\"structured_mesh_max_y\"].max()\n",
    "\n",
    "# for i in random_indices:\n",
    "#     # Select row by using the column \"run\" which contains the run number which has the same range as the index\n",
    "#     df_row = df.iloc[i]\n",
    "#     isolines = isolines_from_vtk(\n",
    "#         df_row[\"vtk_structured\"],\n",
    "#         df_row[\"iso_value\"],\n",
    "#     )\n",
    "#     # plt.figure()\n",
    "#     # curvatures = []\n",
    "#     # for isoline in isolines:\n",
    "#     #     isoline_curvature = curvature.calc_curvature(isoline, stride=20)\n",
    "#     #     curvatures.append(isoline_curvature)\n",
    "\n",
    "#     fig, ax1 = plt.subplots()\n",
    "#     ax2 = ax1.twinx()\n",
    "#     ax2.set_ylabel('Curvature', color='b')\n",
    "#     ax1.set_ylabel('y')\n",
    "#     ax1.set_ylim(y_min, y_max)\n",
    "\n",
    "#     # Cutoff the isolines at x=900, because afterwards there is some artifact: The crack is widening (without reason, for most simulations)\n",
    "#     cleaned_isolines = []\n",
    "#     for isoline in isolines:\n",
    "#         # remove all points with x > 900\n",
    "#         indices = np.where(isoline[:,0] < 900)[0]\n",
    "#         if len(indices) > 0:\n",
    "#             isoline = isoline[indices]\n",
    "#         cleaned_isolines.append(isoline)\n",
    "\n",
    "#     isolines = cleaned_isolines\n",
    "\n",
    "#     curvature_sum_sum = 0\n",
    "#     for isoline in isolines:\n",
    "#         if np.max(isoline[:, 0]) - np.min(isoline[:, 0]) < 100:\n",
    "#             continue\n",
    "#         isoline_curvature_local = curvature.calc_curvature(isoline, stride=20)\n",
    "#         curvature_sum = np.sum(isoline_curvature_local)\n",
    "#         curvature_sum_sum += curvature_sum\n",
    "#         # x = np.linspace(0, 1000, len(isoline_curvature_local))\n",
    "#         ax2.plot(isoline[:,0], isoline_curvature_local, color='b')\n",
    "#         # plt.plot(isoline[:,0], isoline_curvature_local)\n",
    "#         ax1.plot(isoline[:, 0], isoline[:, 1])\n",
    "#     ax1.set_title(f\"length={df_row['length']:.2f}, width={df_row['width']:.2f} volume={df_row['volume']:.2f}, curvature_sum={curvature_sum}\") #, curvature={isoline_curvature:.2f}\")\n",
    "#     plt.show()"
   ]
  },
  {
   "attachments": {},
   "cell_type": "markdown",
   "metadata": {},
   "source": [
    "## Plot Volume"
   ]
  }
 ],
 "metadata": {
  "kernelspec": {
   "display_name": "venv",
   "language": "python",
   "name": "python3"
  },
  "language_info": {
   "codemirror_mode": {
    "name": "ipython",
    "version": 3
   },
   "file_extension": ".py",
   "mimetype": "text/x-python",
   "name": "python",
   "nbconvert_exporter": "python",
   "pygments_lexer": "ipython3",
   "version": "3.11.2"
  },
  "orig_nbformat": 4
 },
 "nbformat": 4,
 "nbformat_minor": 2
}
